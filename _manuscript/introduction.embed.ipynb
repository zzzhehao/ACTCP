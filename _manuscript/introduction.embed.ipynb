{
 "cells": [
  {
   "cell_type": "markdown",
   "metadata": {},
   "source": [
    "# \n",
    "\n",
    "[Zhehao Hu](https://zzzhehao.github.io) ([Department of Biology, University of Hamburg](https://www.biologie.uni-hamburg.de/en.html))\n",
    "\n",
    "## Some introduction\n",
    "\n",
    "Whatever"
   ],
   "id": "bb340458-eea2-4d9d-952d-ae562aedf8f8"
  },
  {
   "cell_type": "raw",
   "metadata": {
    "raw_mimetype": "text/html"
   },
   "source": [
    "<!-- -->"
   ],
   "id": "be044b24-81b6-4d1b-b285-d4706e519bc3"
  },
  {
   "cell_type": "markdown",
   "metadata": {},
   "source": [
    "``` markdown\n",
    "## Some introduction\n",
    "\n",
    "Whatever\n",
    "```"
   ],
   "id": "b2b6b70b-a99e-4555-b559-266e4782ec04"
  }
 ],
 "nbformat": 4,
 "nbformat_minor": 5,
 "metadata": {}
}
