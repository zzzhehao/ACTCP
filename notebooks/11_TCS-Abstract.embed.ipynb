{
 "cells": [
  {
   "cell_type": "markdown",
   "metadata": {},
   "source": [
    "# \n",
    "\n",
    "## Integrative taxonomy of the northern Atlantic *Acanthocope* Beddard 1885, with the description of a new species\n",
    "\n",
    "*Acanthocope* Beddard 1885 is a genus of munnopsid isopod found worldwide between 1243 and 5778 m depth. Equipped with swimming pereopods, *Acanthocope* species are expected to have a wider distribution pattern, but current data on the species do not reflect this status, partly due to limited sampling and many species being recorded only at their type localities. Here, we supplement further records in the Northeast Atlantic with animals collected during the IceAGE3 (2020), IceDivA (2021), and IceDivA2 (2021) expeditions, and report the first genetic data (COI, 18S) for this genus, besides the only cosmopolitan species *A. galatheae* which has been previously sequenced. Comprising 18 species so far, the taxonomy of the genus has only been evaluated morphologically, making this result the first phylogenetic insight within the genus. We also used proteomic fingerprinting data (MALDI-TOF) to support the integrative approach.\n",
    "\n",
    "We confirmed the presence of *A. unicornis* Menzies 1962 from the Southern Atlantic and *A. muelleri* Malyutina 1999 from the Argentine Basin at Northeast Atlantic. Genetic data revealed that the three most recently described species *A. eleganta* Malyutina & Brandt 2004 from northwest Weddell Sea, *A. puertoricana* Malyutina 2018 from the Puerto Rico Trench, and *A. galaica* Malyutina 2018 from the Galicia Bank, are indistinguishable by both nuclear and mitochondrial markers, which is also supported by proteomic data. All three species may represent a single species with a somewhat pronounced intraspecific variation in morphology. *A. eleganta* is likely to represent the manca stage of the species, since the adult individual of *A. eleganta* has never been observed, and the morphology does not promise a substantial difference from *A. puertoricana* and *A. galaica*.\n",
    "\n",
    "In addition, we examine the type material of *A. armata* Chardy 1972, *A. puertoricana* Malyutina 2018 and *A. eleganta* Malyutina & Brandt 2004, and describe a new species of the genus discovered in the Porcupine Abyssal Plain, northeast Atlantic at 4577 m depth."
   ],
   "id": "11bd6573-118c-473d-9281-eab53f77feda"
  },
  {
   "cell_type": "raw",
   "metadata": {
    "raw_mimetype": "text/html"
   },
   "source": [
    "<!-- -->"
   ],
   "id": "c14aff65-5818-4b12-bc12-2775a058138c"
  },
  {
   "cell_type": "markdown",
   "metadata": {},
   "source": [
    "``` markdown\n",
    "## Integrative taxonomy of the northern Atlantic *Acanthocope* Beddard 1885, with the description of a new species\n",
    "\n",
    "*Acanthocope* Beddard 1885 is a genus of munnopsid isopod found worldwide between 1243 and 5778 m depth. Equipped with swimming pereopods, *Acanthocope* species are expected to have a wider distribution pattern, but current data on the species do not reflect this status, partly due to limited sampling and many species being recorded only at their type localities. Here, we supplement further records in the Northeast Atlantic with animals collected during the IceAGE3 (2020), IceDivA (2021), and IceDivA2 (2021) expeditions, and report the first genetic data (COI, 18S) for this genus, besides the only cosmopolitan species *A. galatheae* which has been previously sequenced. Comprising 18 species so far, the taxonomy of the genus has only been evaluated morphologically, making this result the first phylogenetic insight within the genus. We also used proteomic fingerprinting data (MALDI-TOF) to support the integrative approach. \n",
    "\n",
    "We confirmed the presence of *A. unicornis* Menzies 1962 from the Southern Atlantic and *A. muelleri* Malyutina 1999 from the Argentine Basin at Northeast Atlantic. Genetic data revealed that the three most recently described species *A. eleganta* Malyutina & Brandt 2004 from northwest Weddell Sea, *A. puertoricana* Malyutina 2018 from the Puerto Rico Trench, and *A. galaica* Malyutina 2018 from the Galicia Bank, are indistinguishable by both nuclear and mitochondrial markers, which is also supported by proteomic data. All three species may represent a single species with a somewhat pronounced intraspecific variation in morphology. *A. eleganta* is likely to represent the manca stage of the species, since the adult individual of *A. eleganta* has never been observed, and the morphology does not promise a substantial difference from *A. puertoricana* and *A. galaica*. \n",
    "\n",
    "In addition, we examine the type material of *A. armata* Chardy 1972, *A. puertoricana* Malyutina 2018 and *A. eleganta* Malyutina & Brandt 2004, and describe a new species of the genus discovered in the Porcupine Abyssal Plain, northeast Atlantic at 4577 m depth. \n",
    "```"
   ],
   "id": "7b8721c5-dbe6-4f0a-9b92-410cee2728d2"
  }
 ],
 "nbformat": 4,
 "nbformat_minor": 5,
 "metadata": {}
}
