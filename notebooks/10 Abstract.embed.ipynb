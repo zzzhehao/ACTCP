{
 "cells": [
  {
   "cell_type": "markdown",
   "metadata": {},
   "source": [
    "# \n",
    "\n",
    "Science still struggles with reliable taxonomy that forms the foundation for many subsequent studies on marine ecosystems. A case study with integrative approach reports first phylogenetic understanding of the genus *Acanthocope* (Isopoda: Munnopsidae) as well as its biogeography in the North Atlantic, in addition with the description of a new species.\n",
    "\n",
    "(… more with results: Hybridization of Morphogroup 2? Confirm of monophyly? etc.)\n",
    "\n",
    "(… what impact does this have? “Contributing to current understanding of evolution pattern of Munnopsidae”??)"
   ],
   "id": "da217ff0-f3a4-432d-b9c2-332d980d7a64"
  },
  {
   "cell_type": "raw",
   "metadata": {
    "raw_mimetype": "text/html"
   },
   "source": [
    "<!-- -->"
   ],
   "id": "eb7094f0-34e8-412a-aeea-fccc9418bfb5"
  },
  {
   "cell_type": "markdown",
   "metadata": {},
   "source": [
    "``` markdown\n",
    "Science still struggles with reliable taxonomy that forms the foundation for many subsequent studies on marine ecosystems. A case study with integrative approach reports first phylogenetic understanding of the genus *Acanthocope* (Isopoda: Munnopsidae) as well as its biogeography in the North Atlantic, in addition with the description of a new species.\n",
    "\n",
    "(... more with results: Hybridization of Morphogroup 2? Confirm of monophyly? etc.) \n",
    "\n",
    "(... what impact does this have? \"Contributing to current understanding of evolution pattern of Munnopsidae\"??) \n",
    "```"
   ],
   "id": "66df7edf-1d70-48a7-b682-7031236fc727"
  }
 ],
 "nbformat": 4,
 "nbformat_minor": 5,
 "metadata": {}
}
