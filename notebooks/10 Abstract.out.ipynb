{
 "cells": [
  {
   "cell_type": "markdown",
   "metadata": {},
   "source": [
    "# \n",
    "\n",
    "Science still struggles with reliable taxonomy that forms the foundation for many subsequent studies on marine ecosystems. A case study with integrative approach reports first phylogenetic understanding of the genus *Acanthocope* (Isopoda: Munnopsidae) as well as its biogeography in the North Atlantic, in addition with the description of a new species.\n",
    "\n",
    "(… more with results: Hybridization of Morphogroup 2? Confirm of monophyly? etc.)\n",
    "\n",
    "(… what impact does this have? “Contributing to current understanding of evolution pattern of Munnopsidae”??)"
   ],
   "id": "86595e2c-2bdd-49b4-8d79-f0fd84b350a4"
  },
  {
   "cell_type": "raw",
   "metadata": {
    "raw_mimetype": "text/html"
   },
   "source": [
    "<!-- -->"
   ],
   "id": "09aee1a5-664e-447c-b143-c4b1452d4a63"
  },
  {
   "cell_type": "markdown",
   "metadata": {},
   "source": [
    "``` markdown\n",
    "Science still struggles with reliable taxonomy that forms the foundation for many subsequent studies on marine ecosystems. A case study with integrative approach reports first phylogenetic understanding of the genus *Acanthocope* (Isopoda: Munnopsidae) as well as its biogeography in the North Atlantic, in addition with the description of a new species.\n",
    "\n",
    "(... more with results: Hybridization of Morphogroup 2? Confirm of monophyly? etc.) \n",
    "\n",
    "(... what impact does this have? \"Contributing to current understanding of evolution pattern of Munnopsidae\"??) \n",
    "```"
   ],
   "id": "47046182-d3d9-40ce-852b-7ff07b61d5f2"
  }
 ],
 "nbformat": 4,
 "nbformat_minor": 5,
 "metadata": {}
}
