{
 "cells": [
  {
   "cell_type": "markdown",
   "metadata": {},
   "source": [
    "# \n",
    "\n",
    "Science still struggles with reliable taxonomy that forms the foundation for many subsequent studies on marine ecosystems. A case study with integrative approach reports first phylogenetic understanding of the genus *Acanthocope* (Isopoda: Munnopsidae) as well as its biogeography in the North Atlantic, in addition with the description of a new species.\n",
    "\n",
    "(… more with results: Hybridization of Morphogroup 2? Confirm of monophyly? etc.)\n",
    "\n",
    "(… what impact does this have? “Contributing to current understanding of evolution pattern of Munnopsidae”??)"
   ],
   "id": "8b452eba-039c-43a4-b323-ad37893a5242"
  },
  {
   "cell_type": "raw",
   "metadata": {
    "raw_mimetype": "text/html"
   },
   "source": [
    "<!-- -->"
   ],
   "id": "8b79577f-5c55-434c-b136-74bdd6db2cf5"
  },
  {
   "cell_type": "markdown",
   "metadata": {},
   "source": [
    "``` markdown\n",
    "Science still struggles with reliable taxonomy that forms the foundation for many subsequent studies on marine ecosystems. A case study with integrative approach reports first phylogenetic understanding of the genus *Acanthocope* (Isopoda: Munnopsidae) as well as its biogeography in the North Atlantic, in addition with the description of a new species.\n",
    "\n",
    "(... more with results: Hybridization of Morphogroup 2? Confirm of monophyly? etc.) \n",
    "\n",
    "(... what impact does this have? \"Contributing to current understanding of evolution pattern of Munnopsidae\"??) \n",
    "```"
   ],
   "id": "4be8e848-6f14-4c60-9195-ca02ad243943"
  }
 ],
 "nbformat": 4,
 "nbformat_minor": 5,
 "metadata": {}
}
