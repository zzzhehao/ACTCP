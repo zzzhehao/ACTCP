{
 "cells": [
  {
   "cell_type": "markdown",
   "metadata": {},
   "source": [
    "# \n",
    "\n",
    "Science still struggles with reliable taxonomy that forms the foundation for many subsequent studies on marine ecosystems. A case study with integrative approach reports first phylogenetic understanding of the genus *Acanthocope* (Isopoda: Munnopsidae) as well as its biogeography in the North Atlantic, in addition with the description of a new species.\n",
    "\n",
    "(… more with results: Hybridization of Morphogroup 2? Confirm of monophyly? etc.)\n",
    "\n",
    "(… what impact does this have? “Contributing to current understanding of evolution pattern of Munnopsidae”??)"
   ],
   "id": "c1b8df68-b122-4d8d-be01-357a4569323e"
  },
  {
   "cell_type": "raw",
   "metadata": {
    "raw_mimetype": "text/html"
   },
   "source": [
    "<!-- -->"
   ],
   "id": "8af755a4-b2d9-4ca4-8bd0-ee21e9bb411b"
  },
  {
   "cell_type": "markdown",
   "metadata": {},
   "source": [
    "``` markdown\n",
    "Science still struggles with reliable taxonomy that forms the foundation for many subsequent studies on marine ecosystems. A case study with integrative approach reports first phylogenetic understanding of the genus *Acanthocope* (Isopoda: Munnopsidae) as well as its biogeography in the North Atlantic, in addition with the description of a new species.\n",
    "\n",
    "(... more with results: Hybridization of Morphogroup 2? Confirm of monophyly? etc.) \n",
    "\n",
    "(... what impact does this have? \"Contributing to current understanding of evolution pattern of Munnopsidae\"??) \n",
    "```"
   ],
   "id": "7791ed13-cf76-405c-86dd-ceddcca5c710"
  }
 ],
 "nbformat": 4,
 "nbformat_minor": 5,
 "metadata": {}
}
