{
 "cells": [
  {
   "cell_type": "markdown",
   "metadata": {},
   "source": [
    "# \n",
    "\n",
    "## Introduction\n",
    "\n",
    "### Outline\n",
    "\n",
    "1.  Short description of diversity and distribution summarized by Malyutina2018\n",
    "2.  Data missing in northern Atlantic\n",
    "3.  Genetic data missing thus also phylogeny\n",
    "4.  Species delimitation vague: Morpho 1 and Morpho 2 <!-- \n",
    "    ### Body\n",
    "\n",
    "    #### 3.\n",
    "\n",
    "    Despite that more taxonomist are adopting genetic works to resolve difficult phylogenetic relationships, genetic data in the genus was completely missing except several sequences from *A. galatheae* from ... (citation, one-sentence description of the work and purpose, impact).\n",
    "\n",
    "    This has caused limited understanding of the genus and the in-genus phylogenetic relationships are unknown. \n",
    "\n",
    "    (Does Munnopsoid Radiation has anything to do with this? )\n",
    "\n",
    "    #### 4.  -->"
   ],
   "id": "7d9a7b2e-c3eb-4467-a6a6-108ada9793b4"
  },
  {
   "cell_type": "raw",
   "metadata": {
    "raw_mimetype": "text/html"
   },
   "source": [
    "<!-- -->"
   ],
   "id": "24262743-e880-4b9e-8055-f4d44bcbb88d"
  },
  {
   "cell_type": "markdown",
   "metadata": {},
   "source": [
    "``` markdown\n",
    "## Introduction\n",
    "\n",
    "### Outline\n",
    "\n",
    "1. Short description of diversity and distribution summarized by Malyutina2018\n",
    "2. Data missing in northern Atlantic\n",
    "3. Genetic data missing thus also phylogeny\n",
    "4. Species delimitation vague: Morpho 1 and Morpho 2\n",
    "<!-- \n",
    "### Body\n",
    "\n",
    "#### 3.\n",
    "\n",
    "Despite that more taxonomist are adopting genetic works to resolve difficult phylogenetic relationships, genetic data in the genus was completely missing except several sequences from *A. galatheae* from ... (citation, one-sentence description of the work and purpose, impact).\n",
    "\n",
    "This has caused limited understanding of the genus and the in-genus phylogenetic relationships are unknown. \n",
    "\n",
    "(Does Munnopsoid Radiation has anything to do with this? )\n",
    "\n",
    "#### 4.  -->\n",
    "```"
   ],
   "id": "f922da48-6cb9-4e7c-aebf-8eb14cc3f899"
  }
 ],
 "nbformat": 4,
 "nbformat_minor": 5,
 "metadata": {}
}
