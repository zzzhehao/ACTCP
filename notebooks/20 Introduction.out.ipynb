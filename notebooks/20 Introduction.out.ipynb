{
 "cells": [
  {
   "cell_type": "markdown",
   "metadata": {},
   "source": [
    "# \n",
    "\n",
    "## Introduction\n",
    "\n",
    "### Outline\n",
    "\n",
    "1.  Short description of diversity and distribution summarized by Malyutina2018\n",
    "2.  Data missing in northern Atlantic\n",
    "3.  Genetic data missing thus also phylogeny\n",
    "4.  Species delimitation vague: Morpho 1 and Morpho 2 <!-- \n",
    "    ### Body\n",
    "\n",
    "    #### 3.\n",
    "\n",
    "    Despite that more taxonomist are adopting genetic works to resolve difficult phylogenetic relationships, genetic data in the genus was completely missing except several sequences from *A. galatheae* from ... (citation, one-sentence description of the work and purpose, impact).\n",
    "\n",
    "    This has caused limited understanding of the genus and the in-genus phylogenetic relationships are unknown. \n",
    "\n",
    "    (Does Munnopsoid Radiation has anything to do with this? )\n",
    "\n",
    "    #### 4.  -->"
   ],
   "id": "3c941f3f-667d-4562-86a3-b6a8ca8a5dce"
  },
  {
   "cell_type": "raw",
   "metadata": {
    "raw_mimetype": "text/html"
   },
   "source": [
    "<!-- -->"
   ],
   "id": "b7163cc0-9f00-4035-a872-12d4dfd5f9c7"
  },
  {
   "cell_type": "markdown",
   "metadata": {},
   "source": [
    "``` markdown\n",
    "## Introduction\n",
    "\n",
    "### Outline\n",
    "\n",
    "1. Short description of diversity and distribution summarized by Malyutina2018\n",
    "2. Data missing in northern Atlantic\n",
    "3. Genetic data missing thus also phylogeny\n",
    "4. Species delimitation vague: Morpho 1 and Morpho 2\n",
    "<!-- \n",
    "### Body\n",
    "\n",
    "#### 3.\n",
    "\n",
    "Despite that more taxonomist are adopting genetic works to resolve difficult phylogenetic relationships, genetic data in the genus was completely missing except several sequences from *A. galatheae* from ... (citation, one-sentence description of the work and purpose, impact).\n",
    "\n",
    "This has caused limited understanding of the genus and the in-genus phylogenetic relationships are unknown. \n",
    "\n",
    "(Does Munnopsoid Radiation has anything to do with this? )\n",
    "\n",
    "#### 4.  -->\n",
    "```"
   ],
   "id": "2c4d2d08-2b6e-4b4e-b417-9647ff41e33d"
  }
 ],
 "nbformat": 4,
 "nbformat_minor": 5,
 "metadata": {}
}
