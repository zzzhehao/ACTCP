{
 "cells": [
  {
   "cell_type": "markdown",
   "metadata": {},
   "source": [
    "# \n",
    "\n",
    "Science still struggles with reliable taxonomy that forms the foundation for many subsequent studies on marine ecosystems. A case study with integrative approach reports first phylogenetic understanding of the genus *Acanthocope* (Isopoda: Munnopsidae) as well as its biogeography in the North Atlantic, in addition with the description of a new species.\n",
    "\n",
    "(… more with results: Hybridization of Morphogroup 2? Confirm of monophyly? etc.)\n",
    "\n",
    "(… what impact does this have? “Contributing to current understanding of evolution pattern of Munnopsidae”??)"
   ],
   "id": "4c2a900c-252f-48dd-a00c-b09f94447fa1"
  },
  {
   "cell_type": "raw",
   "metadata": {
    "raw_mimetype": "text/html"
   },
   "source": [
    "<!-- -->"
   ],
   "id": "c6fd25f4-81d3-4143-99a1-bc8237cc91ba"
  },
  {
   "cell_type": "markdown",
   "metadata": {},
   "source": [
    "``` markdown\n",
    "Science still struggles with reliable taxonomy that forms the foundation for many subsequent studies on marine ecosystems. A case study with integrative approach reports first phylogenetic understanding of the genus *Acanthocope* (Isopoda: Munnopsidae) as well as its biogeography in the North Atlantic, in addition with the description of a new species.\n",
    "\n",
    "(... more with results: Hybridization of Morphogroup 2? Confirm of monophyly? etc.) \n",
    "\n",
    "(... what impact does this have? \"Contributing to current understanding of evolution pattern of Munnopsidae\"??) \n",
    "```"
   ],
   "id": "2ef69f28-a944-46c4-9d9c-4f4d5d85decc"
  }
 ],
 "nbformat": 4,
 "nbformat_minor": 5,
 "metadata": {}
}
