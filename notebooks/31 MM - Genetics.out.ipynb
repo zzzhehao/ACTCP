{
 "cells": [
  {
   "cell_type": "markdown",
   "metadata": {},
   "source": [
    "# \n",
    "\n",
    "## Phylogeny\n",
    "\n",
    "Sequence cleaning, reference mapping, alignment was done in Geneious. S\n",
    "\n",
    "### 18S\n",
    "\n",
    "1.  The 5’ and 3’ end of the MSA was first trimmed to a region that at least the half of the alignment has reached the position - to avoid included region where only one or two sequences are available.\n",
    "2.  MSA was trimmed by [Gblocks](https://home.cc.umanitoba.ca/~psgendb/doc/Castresana/Gblocks_documentation.html#Options) with following parameter:\n",
    "    -   Minimum Number Of Sequences For A Conserved Position: 9 (minimum)\n",
    "    -   Minimum Number Of Sequences For A Flank Position: 9\n",
    "    -   Maximum Number Of Contiguous Nonconserved Positions: 8 (default)\n",
    "    -   Minimum Length Of A Block: 2 (default: 10, manually to include more sites)\n",
    "    -   Allowed Gap Positions: ALL\n",
    "3.  [Gblocks result](assets/Phylogeny/Alignment.fasta-gb.html)\n",
    "4.  Trimmed MSA was tested by IQTREE for best fitting model \\> HKY model (corresponds to `lset nst = 2` in MrBayes)\n",
    "5.  MSA was imported into MrBayes and analysed with following MrBayes command:\n",
    "\n",
    "``` txt\n",
    "    BEGIN MrBayes;\n",
    "\n",
    "    set autoclose=yes nowarn=yes;\n",
    "    \n",
    "    lset nst=6 rates=invgamma code=Invermt;\n",
    "                                \n",
    "    mcmc ngen=10000000 nruns=6 nchains=6 relburnin=yes samplefreq=100 printfreq=10000 diagnfreq=10000 checkfreq=10000 savebrlens=yes starttree=random;\n",
    "                \n",
    "    sump burnin=500000;\n",
    "    sumt burnin=500000 contype=halfcompat;\n",
    "    report possel=yes siteomega=yes siterate=yes;\n",
    "\n",
    "    END;\n",
    "```"
   ],
   "id": "9a97c3b1-ce25-4cfd-8464-b633d05f111b"
  },
  {
   "cell_type": "raw",
   "metadata": {
    "raw_mimetype": "text/html"
   },
   "source": [
    "<!-- -->"
   ],
   "id": "2ca1b2e2-a8e5-465d-9b31-d5c0ff6567e5"
  },
  {
   "cell_type": "markdown",
   "metadata": {},
   "source": [
    "```` markdown\n",
    "## Phylogeny\n",
    "\n",
    "Sequence cleaning, reference mapping, alignment was done in Geneious. S\n",
    "\n",
    "### 18S\n",
    "\n",
    "1. The 5' and 3' end of the MSA was first trimmed to a region that at least the half of the alignment has reached the position - to avoid included region where only one or two sequences are available.\n",
    "2. MSA was trimmed by [Gblocks](https://home.cc.umanitoba.ca/~psgendb/doc/Castresana/Gblocks_documentation.html#Options) with following parameter:\n",
    "    - Minimum Number Of Sequences For A Conserved Position: 9 (minimum)\n",
    "    - Minimum Number Of Sequences For A Flank Position: 9\n",
    "    - Maximum Number Of Contiguous Nonconserved Positions: 8 (default)\n",
    "    - Minimum Length Of A Block: 2 (default: 10, manually to include more sites)\n",
    "    - Allowed Gap Positions: ALL\n",
    "3. [Gblocks result](assets/Phylogeny/Alignment.fasta-gb.html)\n",
    "4. Trimmed MSA was tested by IQTREE for best fitting model > HKY model (corresponds to `lset nst = 2` in MrBayes)\n",
    "5. MSA was imported into MrBayes and analysed with following MrBayes command:\n",
    "\n",
    "```txt\n",
    "    BEGIN MrBayes;\n",
    "\n",
    "    set autoclose=yes nowarn=yes;\n",
    "    \n",
    "    lset nst=6 rates=invgamma code=Invermt;\n",
    "                                \n",
    "    mcmc ngen=10000000 nruns=6 nchains=6 relburnin=yes samplefreq=100 printfreq=10000 diagnfreq=10000 checkfreq=10000 savebrlens=yes starttree=random;\n",
    "                \n",
    "    sump burnin=500000;\n",
    "    sumt burnin=500000 contype=halfcompat;\n",
    "    report possel=yes siteomega=yes siterate=yes;\n",
    "\n",
    "    END;\n",
    "```\n",
    "````"
   ],
   "id": "f8906806-90d6-4173-9785-d98596dac097"
  }
 ],
 "nbformat": 4,
 "nbformat_minor": 5,
 "metadata": {}
}
