{
 "cells": [
  {
   "cell_type": "markdown",
   "metadata": {},
   "source": [
    "# \n",
    "\n",
    "## Introduction\n",
    "\n",
    "### Outline\n",
    "\n",
    "1.  Short description of diversity and distribution summarized by Malyutina2018\n",
    "2.  Data missing in northern Atlantic\n",
    "3.  Genetic data missing thus also phylogeny\n",
    "4.  Species delimitation vague: Morpho 1 and Morpho 2 <!-- \n",
    "    ### Body\n",
    "\n",
    "    #### 3.\n",
    "\n",
    "    Despite that more taxonomist are adopting genetic works to resolve difficult phylogenetic relationships, genetic data in the genus was completely missing except several sequences from *A. galatheae* from ... (citation, one-sentence description of the work and purpose, impact).\n",
    "\n",
    "    This has caused limited understanding of the genus and the in-genus phylogenetic relationships are unknown. \n",
    "\n",
    "    (Does Munnopsoid Radiation has anything to do with this? )\n",
    "\n",
    "    #### 4.  -->"
   ],
   "id": "c8e05df4-69af-4539-9020-7cc8a0ba73dc"
  },
  {
   "cell_type": "raw",
   "metadata": {
    "raw_mimetype": "text/html"
   },
   "source": [
    "<!-- -->"
   ],
   "id": "cbc25b4a-532e-48fa-96dc-04d692583b60"
  },
  {
   "cell_type": "markdown",
   "metadata": {},
   "source": [
    "``` markdown\n",
    "## Introduction\n",
    "\n",
    "### Outline\n",
    "\n",
    "1. Short description of diversity and distribution summarized by Malyutina2018\n",
    "2. Data missing in northern Atlantic\n",
    "3. Genetic data missing thus also phylogeny\n",
    "4. Species delimitation vague: Morpho 1 and Morpho 2\n",
    "<!-- \n",
    "### Body\n",
    "\n",
    "#### 3.\n",
    "\n",
    "Despite that more taxonomist are adopting genetic works to resolve difficult phylogenetic relationships, genetic data in the genus was completely missing except several sequences from *A. galatheae* from ... (citation, one-sentence description of the work and purpose, impact).\n",
    "\n",
    "This has caused limited understanding of the genus and the in-genus phylogenetic relationships are unknown. \n",
    "\n",
    "(Does Munnopsoid Radiation has anything to do with this? )\n",
    "\n",
    "#### 4.  -->\n",
    "```"
   ],
   "id": "7c921fc9-7d69-4136-90d8-6a3bcb0a02c3"
  }
 ],
 "nbformat": 4,
 "nbformat_minor": 5,
 "metadata": {}
}
