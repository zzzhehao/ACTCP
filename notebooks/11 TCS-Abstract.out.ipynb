{
 "cells": [
  {
   "cell_type": "markdown",
   "metadata": {},
   "source": [
    "# \n",
    "\n",
    "## Integrative taxonomy of the northern Atlantic *Acanthocope* Beddard 1885, with the description of a new species\n",
    "\n",
    "*Acanthocope* Beddard 1885 is a genus of munnopsid isopod found worldwide between 1243 and 5778 m depth. Equipped with swimming pereopods, *Acanthocope* species are expected to have a wider distribution pattern, but current data on the species do not reflect this status, partly due to limited sampling and many species being recorded only at their type localities. Here, we supplement further records in the Northeast Atlantic with animals collected during the IceAGE3 (2020), IceDivA (2021), and IceDivA2 (2021) expeditions, and report the first genetic data (COI, 18S) for this genus, besides the only cosmopolitan species *A. galatheae* which has been previously sequenced. Comprising 18 species so far, the taxonomy of the genus has only been evaluated morphologically, making this result the first phylogenetic insight within the genus. We also used proteomic fingerprinting data (MALDI-TOF) to support the integrative approach.\n",
    "\n",
    "We confirmed the presence of *A. unicornis* Menzies 1962 from the Southern Atlantic and *A. muelleri* Malyutina 1999 from the Argentine Basin at Northeast Atlantic. Genetic data revealed that the three most recently described species *A. eleganta* Malyutina & Brandt 2004 from northwest Weddell Sea, *A. puertoricana* Malyutina 2018 from the Puerto Rico Trench, and *A. galaica* Malyutina 2018 from the Galicia Bank, are indistinguishable by both nuclear and mitochondrial markers, which is also supported by proteomic data. All three species may represent a single species with a somewhat pronounced intraspecific variation in morphology. *A. eleganta* is likely to represent the manca stage of the species, since the adult individual of *A. eleganta* has never been observed, and the morphology does not promise a substantial difference from *A. puertoricana* and *A. galaica*.\n",
    "\n",
    "In addition, we examine the type material of *A. armata* Chardy 1972, *A. puertoricana* Malyutina 2018 and *A. eleganta* Malyutina & Brandt 2004, and describe a new species of the genus discovered in the Porcupine Abyssal Plain, northeast Atlantic at 4577 m depth."
   ],
   "id": "a3c42e8b-7e91-4e42-b219-6fd2a0215d8d"
  },
  {
   "cell_type": "raw",
   "metadata": {
    "raw_mimetype": "text/html"
   },
   "source": [
    "<!-- -->"
   ],
   "id": "5f43db08-dd21-496a-9418-82eadb230b92"
  },
  {
   "cell_type": "markdown",
   "metadata": {},
   "source": [
    "``` markdown\n",
    "## Integrative taxonomy of the northern Atlantic *Acanthocope* Beddard 1885, with the description of a new species\n",
    "\n",
    "*Acanthocope* Beddard 1885 is a genus of munnopsid isopod found worldwide between 1243 and 5778 m depth. Equipped with swimming pereopods, *Acanthocope* species are expected to have a wider distribution pattern, but current data on the species do not reflect this status, partly due to limited sampling and many species being recorded only at their type localities. Here, we supplement further records in the Northeast Atlantic with animals collected during the IceAGE3 (2020), IceDivA (2021), and IceDivA2 (2021) expeditions, and report the first genetic data (COI, 18S) for this genus, besides the only cosmopolitan species *A. galatheae* which has been previously sequenced. Comprising 18 species so far, the taxonomy of the genus has only been evaluated morphologically, making this result the first phylogenetic insight within the genus. We also used proteomic fingerprinting data (MALDI-TOF) to support the integrative approach. \n",
    "\n",
    "We confirmed the presence of *A. unicornis* Menzies 1962 from the Southern Atlantic and *A. muelleri* Malyutina 1999 from the Argentine Basin at Northeast Atlantic. Genetic data revealed that the three most recently described species *A. eleganta* Malyutina & Brandt 2004 from northwest Weddell Sea, *A. puertoricana* Malyutina 2018 from the Puerto Rico Trench, and *A. galaica* Malyutina 2018 from the Galicia Bank, are indistinguishable by both nuclear and mitochondrial markers, which is also supported by proteomic data. All three species may represent a single species with a somewhat pronounced intraspecific variation in morphology. *A. eleganta* is likely to represent the manca stage of the species, since the adult individual of *A. eleganta* has never been observed, and the morphology does not promise a substantial difference from *A. puertoricana* and *A. galaica*. \n",
    "\n",
    "In addition, we examine the type material of *A. armata* Chardy 1972, *A. puertoricana* Malyutina 2018 and *A. eleganta* Malyutina & Brandt 2004, and describe a new species of the genus discovered in the Porcupine Abyssal Plain, northeast Atlantic at 4577 m depth. \n",
    "```"
   ],
   "id": "ded6ea73-e8b3-4a55-9599-1f54c21a13a6"
  }
 ],
 "nbformat": 4,
 "nbformat_minor": 5,
 "metadata": {}
}
