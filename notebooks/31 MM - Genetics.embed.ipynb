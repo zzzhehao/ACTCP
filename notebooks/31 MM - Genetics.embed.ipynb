{
 "cells": [
  {
   "cell_type": "markdown",
   "metadata": {},
   "source": [
    "# \n",
    "\n",
    "## Phylogeny\n",
    "\n",
    "Sequence cleaning, reference mapping, alignment was done in Geneious. S\n",
    "\n",
    "### 18S\n",
    "\n",
    "1.  The 5’ and 3’ end of the MSA was first trimmed to a region that at least the half of the alignment has reached the position - to avoid included region where only one or two sequences are available.\n",
    "2.  MSA was trimmed by [Gblocks](https://home.cc.umanitoba.ca/~psgendb/doc/Castresana/Gblocks_documentation.html#Options) with following parameter:\n",
    "    -   Minimum Number Of Sequences For A Conserved Position: 9 (minimum)\n",
    "    -   Minimum Number Of Sequences For A Flank Position: 9\n",
    "    -   Maximum Number Of Contiguous Nonconserved Positions: 8 (default)\n",
    "    -   Minimum Length Of A Block: 2 (default: 10, manually to include more sites)\n",
    "    -   Allowed Gap Positions: ALL\n",
    "3.  [Gblocks result](assets/Phylogeny/Alignment.fasta-gb.html)\n",
    "4.  Trimmed MSA was tested by IQTREE for best fitting model \\> HKY model (corresponds to `lset nst = 2` in MrBayes)\n",
    "5.  MSA was imported into MrBayes and analysed with following MrBayes command:\n",
    "\n",
    "``` txt\n",
    "    BEGIN MrBayes;\n",
    "\n",
    "    set autoclose=yes nowarn=yes;\n",
    "    \n",
    "    lset nst=6 rates=invgamma code=Invermt;\n",
    "                                \n",
    "    mcmc ngen=10000000 nruns=6 nchains=6 relburnin=yes samplefreq=100 printfreq=10000 diagnfreq=10000 checkfreq=10000 savebrlens=yes starttree=random;\n",
    "                \n",
    "    sump burnin=500000;\n",
    "    sumt burnin=500000 contype=halfcompat;\n",
    "    report possel=yes siteomega=yes siterate=yes;\n",
    "\n",
    "    END;\n",
    "```"
   ],
   "id": "23025252-1d15-488e-b6b7-9db2ac6914a0"
  },
  {
   "cell_type": "raw",
   "metadata": {
    "raw_mimetype": "text/html"
   },
   "source": [
    "<!-- -->"
   ],
   "id": "8a2b4925-a604-4a8b-9b24-08da92c81da0"
  },
  {
   "cell_type": "markdown",
   "metadata": {},
   "source": [
    "```` markdown\n",
    "## Phylogeny\n",
    "\n",
    "Sequence cleaning, reference mapping, alignment was done in Geneious. S\n",
    "\n",
    "### 18S\n",
    "\n",
    "1. The 5' and 3' end of the MSA was first trimmed to a region that at least the half of the alignment has reached the position - to avoid included region where only one or two sequences are available.\n",
    "2. MSA was trimmed by [Gblocks](https://home.cc.umanitoba.ca/~psgendb/doc/Castresana/Gblocks_documentation.html#Options) with following parameter:\n",
    "    - Minimum Number Of Sequences For A Conserved Position: 9 (minimum)\n",
    "    - Minimum Number Of Sequences For A Flank Position: 9\n",
    "    - Maximum Number Of Contiguous Nonconserved Positions: 8 (default)\n",
    "    - Minimum Length Of A Block: 2 (default: 10, manually to include more sites)\n",
    "    - Allowed Gap Positions: ALL\n",
    "3. [Gblocks result](assets/Phylogeny/Alignment.fasta-gb.html)\n",
    "4. Trimmed MSA was tested by IQTREE for best fitting model > HKY model (corresponds to `lset nst = 2` in MrBayes)\n",
    "5. MSA was imported into MrBayes and analysed with following MrBayes command:\n",
    "\n",
    "```txt\n",
    "    BEGIN MrBayes;\n",
    "\n",
    "    set autoclose=yes nowarn=yes;\n",
    "    \n",
    "    lset nst=6 rates=invgamma code=Invermt;\n",
    "                                \n",
    "    mcmc ngen=10000000 nruns=6 nchains=6 relburnin=yes samplefreq=100 printfreq=10000 diagnfreq=10000 checkfreq=10000 savebrlens=yes starttree=random;\n",
    "                \n",
    "    sump burnin=500000;\n",
    "    sumt burnin=500000 contype=halfcompat;\n",
    "    report possel=yes siteomega=yes siterate=yes;\n",
    "\n",
    "    END;\n",
    "```\n",
    "````"
   ],
   "id": "90a07685-2311-4908-bcdd-37d8033e8e2d"
  }
 ],
 "nbformat": 4,
 "nbformat_minor": 5,
 "metadata": {}
}
